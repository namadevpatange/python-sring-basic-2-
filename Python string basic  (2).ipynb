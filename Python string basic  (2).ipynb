{
 "cells": [
  {
   "cell_type": "code",
   "execution_count": 24,
   "id": "393e2cbd",
   "metadata": {},
   "outputs": [],
   "source": [
    "s = \"namdev\""
   ]
  },
  {
   "cell_type": "code",
   "execution_count": 26,
   "id": "cb8953d0",
   "metadata": {},
   "outputs": [
    {
     "data": {
      "text/plain": [
       "False"
      ]
     },
     "execution_count": 26,
     "metadata": {},
     "output_type": "execute_result"
    }
   ],
   "source": [
    "s.isupper()"
   ]
  },
  {
   "cell_type": "code",
   "execution_count": 40,
   "id": "cbfdb59b",
   "metadata": {},
   "outputs": [],
   "source": [
    "s1 = \"nama\""
   ]
  },
  {
   "cell_type": "code",
   "execution_count": 42,
   "id": "9a8d2872",
   "metadata": {},
   "outputs": [
    {
     "data": {
      "text/plain": [
       "False"
      ]
     },
     "execution_count": 42,
     "metadata": {},
     "output_type": "execute_result"
    }
   ],
   "source": [
    "s1.isupper()"
   ]
  },
  {
   "cell_type": "code",
   "execution_count": 44,
   "id": "94f47204",
   "metadata": {},
   "outputs": [
    {
     "data": {
      "text/plain": [
       "True"
      ]
     },
     "execution_count": 44,
     "metadata": {},
     "output_type": "execute_result"
    }
   ],
   "source": [
    "s.islower()"
   ]
  },
  {
   "cell_type": "code",
   "execution_count": 50,
   "id": "fb8651c4",
   "metadata": {},
   "outputs": [],
   "source": [
    "s2 = \"Nama\""
   ]
  },
  {
   "cell_type": "code",
   "execution_count": 52,
   "id": "28789a4b",
   "metadata": {},
   "outputs": [
    {
     "data": {
      "text/plain": [
       "False"
      ]
     },
     "execution_count": 52,
     "metadata": {},
     "output_type": "execute_result"
    }
   ],
   "source": [
    "s2.islower()"
   ]
  },
  {
   "cell_type": "code",
   "execution_count": 54,
   "id": "62ebb425",
   "metadata": {},
   "outputs": [
    {
     "data": {
      "text/plain": [
       "'namdev'"
      ]
     },
     "execution_count": 54,
     "metadata": {},
     "output_type": "execute_result"
    }
   ],
   "source": [
    "s"
   ]
  },
  {
   "cell_type": "code",
   "execution_count": 56,
   "id": "07f647af",
   "metadata": {},
   "outputs": [
    {
     "data": {
      "text/plain": [
       "False"
      ]
     },
     "execution_count": 56,
     "metadata": {},
     "output_type": "execute_result"
    }
   ],
   "source": [
    "s.isspace()"
   ]
  },
  {
   "cell_type": "code",
   "execution_count": 58,
   "id": "f850c464",
   "metadata": {},
   "outputs": [],
   "source": [
    "s4  = \"   \""
   ]
  },
  {
   "cell_type": "code",
   "execution_count": 60,
   "id": "992b5c57",
   "metadata": {},
   "outputs": [
    {
     "data": {
      "text/plain": [
       "True"
      ]
     },
     "execution_count": 60,
     "metadata": {},
     "output_type": "execute_result"
    }
   ],
   "source": [
    "s4.isspace()"
   ]
  },
  {
   "cell_type": "code",
   "execution_count": 62,
   "id": "5d88e13f",
   "metadata": {},
   "outputs": [
    {
     "data": {
      "text/plain": [
       "'namdev'"
      ]
     },
     "execution_count": 62,
     "metadata": {},
     "output_type": "execute_result"
    }
   ],
   "source": [
    "s"
   ]
  },
  {
   "cell_type": "code",
   "execution_count": 64,
   "id": "89094c48",
   "metadata": {},
   "outputs": [
    {
     "data": {
      "text/plain": [
       "False"
      ]
     },
     "execution_count": 64,
     "metadata": {},
     "output_type": "execute_result"
    }
   ],
   "source": [
    "s.isdigit()"
   ]
  },
  {
   "cell_type": "code",
   "execution_count": 66,
   "id": "3feccd08",
   "metadata": {},
   "outputs": [],
   "source": [
    "s5 = \"32424\""
   ]
  },
  {
   "cell_type": "code",
   "execution_count": 68,
   "id": "faca1ecb",
   "metadata": {},
   "outputs": [
    {
     "data": {
      "text/plain": [
       "True"
      ]
     },
     "execution_count": 68,
     "metadata": {},
     "output_type": "execute_result"
    }
   ],
   "source": [
    "s5.isdigit()"
   ]
  },
  {
   "cell_type": "code",
   "execution_count": 70,
   "id": "047e85cf",
   "metadata": {},
   "outputs": [],
   "source": [
    "s6 = \"sdf3454\""
   ]
  },
  {
   "cell_type": "code",
   "execution_count": 72,
   "id": "8bf23e06",
   "metadata": {},
   "outputs": [
    {
     "data": {
      "text/plain": [
       "False"
      ]
     },
     "execution_count": 72,
     "metadata": {},
     "output_type": "execute_result"
    }
   ],
   "source": [
    "s6.isdigit()"
   ]
  },
  {
   "cell_type": "code",
   "execution_count": 74,
   "id": "2f7e532c",
   "metadata": {},
   "outputs": [
    {
     "data": {
      "text/plain": [
       "'namdev'"
      ]
     },
     "execution_count": 74,
     "metadata": {},
     "output_type": "execute_result"
    }
   ],
   "source": [
    "s"
   ]
  },
  {
   "cell_type": "code",
   "execution_count": 76,
   "id": "4f29c5a7",
   "metadata": {},
   "outputs": [
    {
     "data": {
      "text/plain": [
       "True"
      ]
     },
     "execution_count": 76,
     "metadata": {},
     "output_type": "execute_result"
    }
   ],
   "source": [
    "s.isalnum()"
   ]
  },
  {
   "cell_type": "code",
   "execution_count": 78,
   "id": "289cf2b8",
   "metadata": {},
   "outputs": [
    {
     "data": {
      "text/plain": [
       "True"
      ]
     },
     "execution_count": 78,
     "metadata": {},
     "output_type": "execute_result"
    }
   ],
   "source": [
    "s.isalpha()"
   ]
  },
  {
   "cell_type": "code",
   "execution_count": 80,
   "id": "e5b21fe2",
   "metadata": {},
   "outputs": [],
   "source": [
    "s7 = \"345345sgfdg\""
   ]
  },
  {
   "cell_type": "code",
   "execution_count": 82,
   "id": "d68b17b6",
   "metadata": {},
   "outputs": [
    {
     "data": {
      "text/plain": [
       "False"
      ]
     },
     "execution_count": 82,
     "metadata": {},
     "output_type": "execute_result"
    }
   ],
   "source": [
    "s7.isalpha()"
   ]
  },
  {
   "cell_type": "code",
   "execution_count": 84,
   "id": "f1f494db",
   "metadata": {},
   "outputs": [
    {
     "data": {
      "text/plain": [
       "'namdev'"
      ]
     },
     "execution_count": 84,
     "metadata": {},
     "output_type": "execute_result"
    }
   ],
   "source": [
    "s"
   ]
  },
  {
   "cell_type": "code",
   "execution_count": 86,
   "id": "c05c939c",
   "metadata": {},
   "outputs": [
    {
     "data": {
      "text/plain": [
       "False"
      ]
     },
     "execution_count": 86,
     "metadata": {},
     "output_type": "execute_result"
    }
   ],
   "source": [
    "s.startswith('i')"
   ]
  },
  {
   "cell_type": "code",
   "execution_count": 88,
   "id": "5acc3dad",
   "metadata": {},
   "outputs": [
    {
     "data": {
      "text/plain": [
       "False"
      ]
     },
     "execution_count": 88,
     "metadata": {},
     "output_type": "execute_result"
    }
   ],
   "source": [
    "s.startswith('s')"
   ]
  },
  {
   "cell_type": "code",
   "execution_count": 90,
   "id": "4f178822",
   "metadata": {},
   "outputs": [
    {
     "data": {
      "text/plain": [
       "False"
      ]
     },
     "execution_count": 90,
     "metadata": {},
     "output_type": "execute_result"
    }
   ],
   "source": [
    "s.startswith(\"S\")"
   ]
  },
  {
   "cell_type": "code",
   "execution_count": 92,
   "id": "9d19e9aa",
   "metadata": {},
   "outputs": [
    {
     "data": {
      "text/plain": [
       "False"
      ]
     },
     "execution_count": 92,
     "metadata": {},
     "output_type": "execute_result"
    }
   ],
   "source": [
    "s.endswith('n')"
   ]
  },
  {
   "cell_type": "code",
   "execution_count": 94,
   "id": "4a8014d4",
   "metadata": {},
   "outputs": [
    {
     "data": {
      "text/plain": [
       "False"
      ]
     },
     "execution_count": 94,
     "metadata": {},
     "output_type": "execute_result"
    }
   ],
   "source": [
    "s.endswith('u')"
   ]
  },
  {
   "cell_type": "code",
   "execution_count": 96,
   "id": "82bc7032",
   "metadata": {},
   "outputs": [
    {
     "data": {
      "text/plain": [
       "'namdev'"
      ]
     },
     "execution_count": 96,
     "metadata": {},
     "output_type": "execute_result"
    }
   ],
   "source": [
    "s"
   ]
  },
  {
   "cell_type": "code",
   "execution_count": 98,
   "id": "4ebc67c5",
   "metadata": {},
   "outputs": [
    {
     "data": {
      "text/plain": [
       "'345345sgfdg'"
      ]
     },
     "execution_count": 98,
     "metadata": {},
     "output_type": "execute_result"
    }
   ],
   "source": [
    "s7"
   ]
  },
  {
   "cell_type": "code",
   "execution_count": 100,
   "id": "830a1db5",
   "metadata": {},
   "outputs": [
    {
     "data": {
      "text/plain": [
       "'namdev'"
      ]
     },
     "execution_count": 100,
     "metadata": {},
     "output_type": "execute_result"
    }
   ],
   "source": [
    "s"
   ]
  },
  {
   "cell_type": "code",
   "execution_count": 102,
   "id": "a91991a8",
   "metadata": {},
   "outputs": [
    {
     "data": {
      "text/plain": [
       "False"
      ]
     },
     "execution_count": 102,
     "metadata": {},
     "output_type": "execute_result"
    }
   ],
   "source": [
    "s.isdigit()"
   ]
  },
  {
   "cell_type": "code",
   "execution_count": 104,
   "id": "b0b3b87c",
   "metadata": {},
   "outputs": [
    {
     "data": {
      "text/plain": [
       "False"
      ]
     },
     "execution_count": 104,
     "metadata": {},
     "output_type": "execute_result"
    }
   ],
   "source": [
    "s.isnumeric()"
   ]
  },
  {
   "cell_type": "code",
   "execution_count": 106,
   "id": "55d85b77",
   "metadata": {},
   "outputs": [
    {
     "data": {
      "text/plain": [
       "True"
      ]
     },
     "execution_count": 106,
     "metadata": {},
     "output_type": "execute_result"
    }
   ],
   "source": [
    "s.startswith(\"\")"
   ]
  },
  {
   "cell_type": "code",
   "execution_count": 108,
   "id": "919861e1",
   "metadata": {},
   "outputs": [
    {
     "data": {
      "text/plain": [
       "'namdev'"
      ]
     },
     "execution_count": 108,
     "metadata": {},
     "output_type": "execute_result"
    }
   ],
   "source": [
    "s"
   ]
  },
  {
   "cell_type": "code",
   "execution_count": 110,
   "id": "bc2ed536",
   "metadata": {},
   "outputs": [
    {
     "data": {
      "text/plain": [
       "True"
      ]
     },
     "execution_count": 110,
     "metadata": {},
     "output_type": "execute_result"
    }
   ],
   "source": [
    "s.isascii()"
   ]
  },
  {
   "cell_type": "code",
   "execution_count": 112,
   "id": "9785e054",
   "metadata": {},
   "outputs": [
    {
     "data": {
      "text/plain": [
       "False"
      ]
     },
     "execution_count": 112,
     "metadata": {},
     "output_type": "execute_result"
    }
   ],
   "source": [
    "s = 'sudhanshu123   '\n",
    "\n",
    "s.isalnum()\n"
   ]
  },
  {
   "cell_type": "code",
   "execution_count": 114,
   "id": "7c4fcb81",
   "metadata": {},
   "outputs": [
    {
     "data": {
      "text/plain": [
       "False"
      ]
     },
     "execution_count": 114,
     "metadata": {},
     "output_type": "execute_result"
    }
   ],
   "source": [
    "s =' 5 '\n",
    "s.isspace()\n"
   ]
  },
  {
   "cell_type": "code",
   "execution_count": 116,
   "id": "78175eff",
   "metadata": {},
   "outputs": [
    {
     "data": {
      "text/plain": [
       "'@@@@@@@@ 5 @@@@@@@@@'"
      ]
     },
     "execution_count": 116,
     "metadata": {},
     "output_type": "execute_result"
    }
   ],
   "source": [
    "s.center (20,'@')\n"
   ]
  },
  {
   "cell_type": "code",
   "execution_count": 118,
   "id": "bf97c0ee",
   "metadata": {},
   "outputs": [
    {
     "data": {
      "text/plain": [
       "' 5 '"
      ]
     },
     "execution_count": 118,
     "metadata": {},
     "output_type": "execute_result"
    }
   ],
   "source": [
    "s"
   ]
  },
  {
   "cell_type": "code",
   "execution_count": 120,
   "id": "90948472",
   "metadata": {},
   "outputs": [
    {
     "data": {
      "text/plain": [
       "True"
      ]
     },
     "execution_count": 120,
     "metadata": {},
     "output_type": "execute_result"
    }
   ],
   "source": [
    "s1 = '456'\n",
    "s1.isalnum()\n"
   ]
  },
  {
   "cell_type": "code",
   "execution_count": 122,
   "id": "c04de114",
   "metadata": {},
   "outputs": [],
   "source": [
    "s=\"this is my very first programming class\"\n"
   ]
  },
  {
   "cell_type": "code",
   "execution_count": 124,
   "id": "d39a3721",
   "metadata": {},
   "outputs": [
    {
     "data": {
      "text/plain": [
       "False"
      ]
     },
     "execution_count": 124,
     "metadata": {},
     "output_type": "execute_result"
    }
   ],
   "source": [
    "s.isspace()"
   ]
  },
  {
   "cell_type": "code",
   "execution_count": 126,
   "id": "ba1fcee8",
   "metadata": {},
   "outputs": [],
   "source": [
    "s = \" 6    \""
   ]
  },
  {
   "cell_type": "code",
   "execution_count": 128,
   "id": "fb995492",
   "metadata": {},
   "outputs": [
    {
     "data": {
      "text/plain": [
       "False"
      ]
     },
     "execution_count": 128,
     "metadata": {},
     "output_type": "execute_result"
    }
   ],
   "source": [
    "s.isspace()"
   ]
  },
  {
   "cell_type": "code",
   "execution_count": 130,
   "id": "ab79914d",
   "metadata": {},
   "outputs": [],
   "source": [
    "s = \"453443\""
   ]
  },
  {
   "cell_type": "code",
   "execution_count": 132,
   "id": "49bd55fc",
   "metadata": {},
   "outputs": [
    {
     "data": {
      "text/plain": [
       "True"
      ]
     },
     "execution_count": 132,
     "metadata": {},
     "output_type": "execute_result"
    }
   ],
   "source": [
    "s.isdigit()"
   ]
  },
  {
   "cell_type": "code",
   "execution_count": 134,
   "id": "6bce4062",
   "metadata": {},
   "outputs": [],
   "source": [
    "s1 = \"fasfdas345346346\""
   ]
  },
  {
   "cell_type": "code",
   "execution_count": 136,
   "id": "503ddca6",
   "metadata": {},
   "outputs": [
    {
     "data": {
      "text/plain": [
       "False"
      ]
     },
     "execution_count": 136,
     "metadata": {},
     "output_type": "execute_result"
    }
   ],
   "source": [
    "s1.isnumeric()"
   ]
  },
  {
   "cell_type": "code",
   "execution_count": 138,
   "id": "8085f88b",
   "metadata": {},
   "outputs": [],
   "source": [
    "s2 = \"345435 3455 3453\""
   ]
  },
  {
   "cell_type": "code",
   "execution_count": 140,
   "id": "7ddeddb9",
   "metadata": {},
   "outputs": [
    {
     "data": {
      "text/plain": [
       "False"
      ]
     },
     "execution_count": 140,
     "metadata": {},
     "output_type": "execute_result"
    }
   ],
   "source": [
    "s2.isnumeric()"
   ]
  },
  {
   "cell_type": "code",
   "execution_count": 142,
   "id": "68193a7a",
   "metadata": {},
   "outputs": [
    {
     "data": {
      "text/plain": [
       "True"
      ]
     },
     "execution_count": 142,
     "metadata": {},
     "output_type": "execute_result"
    }
   ],
   "source": [
    "s.isnumeric()"
   ]
  },
  {
   "cell_type": "code",
   "execution_count": 144,
   "id": "c12bac37",
   "metadata": {},
   "outputs": [
    {
     "data": {
      "text/plain": [
       "False"
      ]
     },
     "execution_count": 144,
     "metadata": {},
     "output_type": "execute_result"
    }
   ],
   "source": [
    "s2.isdigit()"
   ]
  },
  {
   "cell_type": "code",
   "execution_count": 146,
   "id": "444702f2",
   "metadata": {},
   "outputs": [],
   "source": [
    "s = 56"
   ]
  },
  {
   "cell_type": "code",
   "execution_count": 154,
   "id": "46785c09",
   "metadata": {},
   "outputs": [],
   "source": [
    "s= \"nama\""
   ]
  },
  {
   "cell_type": "code",
   "execution_count": 156,
   "id": "d0cd41cd",
   "metadata": {},
   "outputs": [
    {
     "data": {
      "text/plain": [
       "<reversed at 0x17f0b723820>"
      ]
     },
     "execution_count": 156,
     "metadata": {},
     "output_type": "execute_result"
    }
   ],
   "source": [
    "reversed(s)"
   ]
  },
  {
   "cell_type": "code",
   "execution_count": 174,
   "id": "7d718f63",
   "metadata": {},
   "outputs": [
    {
     "data": {
      "text/plain": [
       "'pdadtdadndgde'"
      ]
     },
     "execution_count": 174,
     "metadata": {},
     "output_type": "execute_result"
    }
   ],
   "source": [
    "'d'.join(\"patange\")"
   ]
  },
  {
   "cell_type": "code",
   "execution_count": 176,
   "id": "519985e3",
   "metadata": {},
   "outputs": [
    {
     "data": {
      "text/plain": [
       "'vedman'"
      ]
     },
     "execution_count": 176,
     "metadata": {},
     "output_type": "execute_result"
    }
   ],
   "source": [
    "\"\".join(reversed(\"namdev\"))"
   ]
  },
  {
   "cell_type": "code",
   "execution_count": 178,
   "id": "314d8c50",
   "metadata": {},
   "outputs": [],
   "source": [
    "s= \"453453.456\""
   ]
  },
  {
   "cell_type": "code",
   "execution_count": 180,
   "id": "edbad17d",
   "metadata": {},
   "outputs": [
    {
     "data": {
      "text/plain": [
       "False"
      ]
     },
     "execution_count": 180,
     "metadata": {},
     "output_type": "execute_result"
    }
   ],
   "source": [
    "s.isdigit()"
   ]
  },
  {
   "cell_type": "code",
   "execution_count": 182,
   "id": "62d07187",
   "metadata": {},
   "outputs": [
    {
     "data": {
      "text/plain": [
       "False"
      ]
     },
     "execution_count": 182,
     "metadata": {},
     "output_type": "execute_result"
    }
   ],
   "source": [
    "s.isnumeric()"
   ]
  },
  {
   "cell_type": "code",
   "execution_count": 192,
   "id": "161ae891",
   "metadata": {},
   "outputs": [],
   "source": [
    "s = 'namdev\\patange\\patange'"
   ]
  },
  {
   "cell_type": "code",
   "execution_count": 194,
   "id": "357e2493",
   "metadata": {},
   "outputs": [
    {
     "data": {
      "text/plain": [
       "'namdev\\\\patange\\\\patange'"
      ]
     },
     "execution_count": 194,
     "metadata": {},
     "output_type": "execute_result"
    }
   ],
   "source": [
    "s.expandtabs()"
   ]
  },
  {
   "cell_type": "code",
   "execution_count": 198,
   "id": "bf2f8276",
   "metadata": {},
   "outputs": [
    {
     "data": {
      "text/plain": [
       "'egnatapn'"
      ]
     },
     "execution_count": 198,
     "metadata": {},
     "output_type": "execute_result"
    }
   ],
   "source": [
    "s=\"npatange\"\n",
    "\n",
    "\"\".join(reversed(s))\n"
   ]
  },
  {
   "cell_type": "code",
   "execution_count": 200,
   "id": "29fae4c5",
   "metadata": {},
   "outputs": [
    {
     "data": {
      "text/plain": [
       "'hhe     gge     hhe'"
      ]
     },
     "execution_count": 200,
     "metadata": {},
     "output_type": "execute_result"
    }
   ],
   "source": [
    "s=\"hhe\\tgge\\thhe\"\n",
    "s.expandtabs()\n"
   ]
  },
  {
   "cell_type": "code",
   "execution_count": 210,
   "id": "af633e34",
   "metadata": {},
   "outputs": [
    {
     "ename": "SyntaxError",
     "evalue": "invalid syntax (3702909780.py, line 2)",
     "output_type": "error",
     "traceback": [
      "\u001b[1;36m  Cell \u001b[1;32mIn[210], line 2\u001b[1;36m\u001b[0m\n\u001b[1;33m    1 . Try to extract data from index one to index 300 with a jump of 3\u001b[0m\n\u001b[1;37m            ^\u001b[0m\n\u001b[1;31mSyntaxError\u001b[0m\u001b[1;31m:\u001b[0m invalid syntax\n"
     ]
    }
   ],
   "source": [
    "s = \"this is My First Python programming class and i am learNING python string and its function\"\n",
    "1 . Try to extract data from index one to index 300 with a jump of 3 \n",
    "2. Try to reverse a string without using reverse function \n",
    "3. Try to split a string after conversion of entire string in uppercase \n",
    "4. try to convert the whole string into lower case \n",
    "5 . Try to capitalize the whole string \n",
    "6 . Write a diference between isalnum() and isalpha()\n",
    "7. Try to give an example of expand tab\n",
    "8 . Give an example of strip , lstrip and rstrip \n",
    "9.  Replace a string charecter by another charector by taking your own example \n",
    "\"namdev\"\n",
    "10 . Try  to give a defination of string center function with and exmple \n",
    "11 . Write your own definition of compiler and interpretor without copy paste form internet in your own language\n",
    "12 . Python is a interpreted of compiled language give a clear ans with your understanding \n",
    "13 . Try to write a usecase of python with your understanding."
   ]
  },
  {
   "cell_type": "code",
   "execution_count": 212,
   "id": "0df42042",
   "metadata": {},
   "outputs": [
    {
     "data": {
      "text/plain": [
       "''"
      ]
     },
     "execution_count": 212,
     "metadata": {},
     "output_type": "execute_result"
    }
   ],
   "source": [
    "s = \"patangenamdev\"\n",
    "s[-2:-7]"
   ]
  },
  {
   "cell_type": "code",
   "execution_count": 214,
   "id": "346ecf7d",
   "metadata": {},
   "outputs": [],
   "source": [
    "x = '\\13'"
   ]
  },
  {
   "cell_type": "code",
   "execution_count": 216,
   "id": "94da8b05",
   "metadata": {},
   "outputs": [
    {
     "data": {
      "text/plain": [
       "True"
      ]
     },
     "execution_count": 216,
     "metadata": {},
     "output_type": "execute_result"
    }
   ],
   "source": [
    "x.isspace()"
   ]
  },
  {
   "cell_type": "code",
   "execution_count": 218,
   "id": "1197db7d",
   "metadata": {},
   "outputs": [
    {
     "data": {
      "text/plain": [
       "True"
      ]
     },
     "execution_count": 218,
     "metadata": {},
     "output_type": "execute_result"
    }
   ],
   "source": [
    "True "
   ]
  },
  {
   "cell_type": "code",
   "execution_count": 220,
   "id": "996ad10e",
   "metadata": {},
   "outputs": [
    {
     "data": {
      "text/plain": [
       "0"
      ]
     },
     "execution_count": 220,
     "metadata": {},
     "output_type": "execute_result"
    }
   ],
   "source": [
    "True -True "
   ]
  },
  {
   "cell_type": "code",
   "execution_count": 222,
   "id": "dde145fc",
   "metadata": {},
   "outputs": [],
   "source": [
    "s= \"namdev\""
   ]
  },
  {
   "cell_type": "code",
   "execution_count": 224,
   "id": "796b50cb",
   "metadata": {},
   "outputs": [
    {
     "data": {
      "text/plain": [
       "'vedman'"
      ]
     },
     "execution_count": 224,
     "metadata": {},
     "output_type": "execute_result"
    }
   ],
   "source": [
    "s[::-1]"
   ]
  },
  {
   "cell_type": "code",
   "execution_count": 226,
   "id": "602fe207",
   "metadata": {},
   "outputs": [
    {
     "data": {
      "text/plain": [
       "'namdev'"
      ]
     },
     "execution_count": 226,
     "metadata": {},
     "output_type": "execute_result"
    }
   ],
   "source": [
    "s[::+1]"
   ]
  },
  {
   "cell_type": "code",
   "execution_count": 228,
   "id": "c840bc01",
   "metadata": {},
   "outputs": [],
   "source": [
    "s =\"man's work\""
   ]
  },
  {
   "cell_type": "code",
   "execution_count": 236,
   "id": "96635fd4",
   "metadata": {},
   "outputs": [
    {
     "data": {
      "text/plain": [
       "\"man's work\""
      ]
     },
     "execution_count": 236,
     "metadata": {},
     "output_type": "execute_result"
    }
   ],
   "source": [
    "s"
   ]
  },
  {
   "cell_type": "code",
   "execution_count": 240,
   "id": "893e46eb",
   "metadata": {},
   "outputs": [
    {
     "data": {
      "text/plain": [
       "['namdevpatange']"
      ]
     },
     "execution_count": 240,
     "metadata": {},
     "output_type": "execute_result"
    }
   ],
   "source": [
    "s= \"namdevpatange\"\n",
    "s.split('u')"
   ]
  },
  {
   "cell_type": "code",
   "execution_count": 242,
   "id": "e452843b",
   "metadata": {},
   "outputs": [],
   "source": [
    "b = \"ujjwal\""
   ]
  },
  {
   "cell_type": "code",
   "execution_count": 244,
   "id": "ffb7bfd2",
   "metadata": {},
   "outputs": [
    {
     "data": {
      "text/plain": [
       "'#ujjwal'"
      ]
     },
     "execution_count": 244,
     "metadata": {},
     "output_type": "execute_result"
    }
   ],
   "source": [
    "b.center(7, \"#\")"
   ]
  },
  {
   "cell_type": "code",
   "execution_count": 246,
   "id": "e0e5e254",
   "metadata": {},
   "outputs": [],
   "source": [
    "s = 'ar\\bt\\yt'"
   ]
  },
  {
   "cell_type": "code",
   "execution_count": 248,
   "id": "ebe7ade1",
   "metadata": {},
   "outputs": [
    {
     "data": {
      "text/plain": [
       "'ar\\x08t\\\\yt'"
      ]
     },
     "execution_count": 248,
     "metadata": {},
     "output_type": "execute_result"
    }
   ],
   "source": [
    "s.expandtabs()"
   ]
  },
  {
   "cell_type": "code",
   "execution_count": 250,
   "id": "1db49dc6",
   "metadata": {},
   "outputs": [
    {
     "data": {
      "text/plain": [
       "'ge'"
      ]
     },
     "execution_count": 250,
     "metadata": {},
     "output_type": "execute_result"
    }
   ],
   "source": [
    "s= \"namdevpatange\"\n",
    "s[-2:]"
   ]
  },
  {
   "cell_type": "code",
   "execution_count": 252,
   "id": "ca56678a",
   "metadata": {},
   "outputs": [
    {
     "data": {
      "text/plain": [
       "\"The Samsung Group[3] (or simply Samsung, stylized as SΛMSUNG) (Korean: 삼성 [samsʌŋ]) is a South Korean multinational manufacturing conglomerate headquartered in Samsung Town, Seoul, South Korea.[1] It comprises numerous affiliated businesses,[1] most of them united under the Samsung brand, and is the largest South Korean chaebol (business conglomerate). As of 2020, Samsung has the 8th highest global brand value.[4]\\n\\nSamsung was founded by Lee Byung-chul in 1938 as a trading company. Over the next three decades, the group diversified into areas including food processing, textiles, insurance, securities, and retail. Samsung entered the electronics industry in the late 1960s and the construction and shipbuilding industries in the mid-1970s; these areas would drive its subsequent growth. Following Lee's death in 1987, Samsung was separated into five business groups – Samsung Group, Shinsegae Group, CJ Group and Hansol Group, and Joongang Group.\\n\\nNotable Samsung industrial affiliates include Samsung Electronics (the world's largest information technology company, consumer electronics maker and chipmaker measured by 2017 revenues),[5][6] Samsung Heavy Industries (the world's 2nd largest shipbuilder measured by 2010 revenues),[7] and Samsung Engineering and Samsung C&T Corporation (respectively the world's 13th and 36th largest construction companies).[8] Other notable subsidiaries include Samsung Life Insurance (the world's 14th largest life insurance company),[9] Samsung Everland (operator of Everland Resort, the oldest theme park in South Korea)[10] and Cheil Worldwide (the world's 15th largest advertising agency, as measured by 2012 revenues).[11][12]\""
      ]
     },
     "execution_count": 252,
     "metadata": {},
     "output_type": "execute_result"
    }
   ],
   "source": [
    "\"\"\"The Samsung Group[3] (or simply Samsung, stylized as SΛMSUNG) (Korean: 삼성 [samsʌŋ]) is a South Korean multinational manufacturing conglomerate headquartered in Samsung Town, Seoul, South Korea.[1] It comprises numerous affiliated businesses,[1] most of them united under the Samsung brand, and is the largest South Korean chaebol (business conglomerate). As of 2020, Samsung has the 8th highest global brand value.[4]\n",
    "\n",
    "Samsung was founded by Lee Byung-chul in 1938 as a trading company. Over the next three decades, the group diversified into areas including food processing, textiles, insurance, securities, and retail. Samsung entered the electronics industry in the late 1960s and the construction and shipbuilding industries in the mid-1970s; these areas would drive its subsequent growth. Following Lee's death in 1987, Samsung was separated into five business groups – Samsung Group, Shinsegae Group, CJ Group and Hansol Group, and Joongang Group.\n",
    "\n",
    "Notable Samsung industrial affiliates include Samsung Electronics (the world's largest information technology company, consumer electronics maker and chipmaker measured by 2017 revenues),[5][6] Samsung Heavy Industries (the world's 2nd largest shipbuilder measured by 2010 revenues),[7] and Samsung Engineering and Samsung C&T Corporation (respectively the world's 13th and 36th largest construction companies).[8] Other notable subsidiaries include Samsung Life Insurance (the world's 14th largest life insurance company),[9] Samsung Everland (operator of Everland Resort, the oldest theme park in South Korea)[10] and Cheil Worldwide (the world's 15th largest advertising agency, as measured by 2012 revenues).[11][12]\"\"\""
   ]
  },
  {
   "cell_type": "code",
   "execution_count": 254,
   "id": "a7285532",
   "metadata": {},
   "outputs": [
    {
     "data": {
      "text/plain": [
       "''"
      ]
     },
     "execution_count": 254,
     "metadata": {},
     "output_type": "execute_result"
    }
   ],
   "source": [
    "c = \"iNeuron\"\n",
    "c[-7:0:1]"
   ]
  },
  {
   "cell_type": "code",
   "execution_count": 256,
   "id": "14ebdb2b",
   "metadata": {},
   "outputs": [],
   "source": [
    "s = \"namdev\\patange\""
   ]
  },
  {
   "cell_type": "code",
   "execution_count": 258,
   "id": "c104f85c",
   "metadata": {},
   "outputs": [
    {
     "data": {
      "text/plain": [
       "'namdev\\\\patange'"
      ]
     },
     "execution_count": 258,
     "metadata": {},
     "output_type": "execute_result"
    }
   ],
   "source": [
    "s.expandtabs()"
   ]
  },
  {
   "cell_type": "code",
   "execution_count": 260,
   "id": "7957cfb4",
   "metadata": {},
   "outputs": [
    {
     "data": {
      "text/plain": [
       "'sudhsudhsudh'"
      ]
     },
     "execution_count": 260,
     "metadata": {},
     "output_type": "execute_result"
    }
   ],
   "source": [
    "\"sudh\" *3 "
   ]
  },
  {
   "cell_type": "code",
   "execution_count": 266,
   "id": "89750e7b",
   "metadata": {},
   "outputs": [
    {
     "data": {
      "text/plain": [
       "'Namdev\\\\Patange'"
      ]
     },
     "execution_count": 266,
     "metadata": {},
     "output_type": "execute_result"
    }
   ],
   "source": [
    "s.title()"
   ]
  },
  {
   "cell_type": "code",
   "execution_count": 268,
   "id": "04eea734",
   "metadata": {},
   "outputs": [
    {
     "data": {
      "text/plain": [
       "['namdev\\\\patange']"
      ]
     },
     "execution_count": 268,
     "metadata": {},
     "output_type": "execute_result"
    }
   ],
   "source": [
    "s.splitlines()"
   ]
  },
  {
   "cell_type": "code",
   "execution_count": 274,
   "id": "10912834",
   "metadata": {},
   "outputs": [
    {
     "data": {
      "text/plain": [
       "'egnatapvedma'"
      ]
     },
     "execution_count": 274,
     "metadata": {},
     "output_type": "execute_result"
    }
   ],
   "source": [
    "s = \"namdevpatange\"\n",
    "s[len(s):0:-1]"
   ]
  },
  {
   "cell_type": "code",
   "execution_count": 278,
   "id": "0aca9eee",
   "metadata": {},
   "outputs": [
    {
     "data": {
      "text/plain": [
       "'namdevpatange'"
      ]
     },
     "execution_count": 278,
     "metadata": {},
     "output_type": "execute_result"
    }
   ],
   "source": [
    "\"\".join(\"namdevpatange\")"
   ]
  },
  {
   "cell_type": "code",
   "execution_count": 280,
   "id": "2a0f1be3",
   "metadata": {},
   "outputs": [
    {
     "data": {
      "text/plain": [
       "'vedmanegnatap'"
      ]
     },
     "execution_count": 280,
     "metadata": {},
     "output_type": "execute_result"
    }
   ],
   "source": [
    "s= \"patangenamdev\"\n",
    "s= reversed(s)\n",
    "\"\".join(s)\n"
   ]
  },
  {
   "cell_type": "code",
   "execution_count": 282,
   "id": "52736866",
   "metadata": {},
   "outputs": [
    {
     "data": {
      "text/plain": [
       "''"
      ]
     },
     "execution_count": 282,
     "metadata": {},
     "output_type": "execute_result"
    }
   ],
   "source": [
    "\"\".join(s)"
   ]
  },
  {
   "cell_type": "code",
   "execution_count": 284,
   "id": "c50bbd41",
   "metadata": {},
   "outputs": [
    {
     "data": {
      "text/plain": [
       "''"
      ]
     },
     "execution_count": 284,
     "metadata": {},
     "output_type": "execute_result"
    }
   ],
   "source": [
    "\"\".join(s)"
   ]
  },
  {
   "cell_type": "code",
   "execution_count": 286,
   "id": "1b9df594",
   "metadata": {},
   "outputs": [
    {
     "data": {
      "text/plain": [
       "<reversed at 0x17f0b71b040>"
      ]
     },
     "execution_count": 286,
     "metadata": {},
     "output_type": "execute_result"
    }
   ],
   "source": [
    "s"
   ]
  },
  {
   "cell_type": "code",
   "execution_count": 288,
   "id": "463f93a9",
   "metadata": {},
   "outputs": [],
   "source": [
    "for i in s :\n",
    "    print(i)"
   ]
  },
  {
   "cell_type": "code",
   "execution_count": 296,
   "id": "e2595d92",
   "metadata": {},
   "outputs": [],
   "source": [
    "s = 'namdev'"
   ]
  },
  {
   "cell_type": "code",
   "execution_count": 298,
   "id": "f10a8dc1",
   "metadata": {},
   "outputs": [
    {
     "data": {
      "text/plain": [
       "'v'"
      ]
     },
     "execution_count": 298,
     "metadata": {},
     "output_type": "execute_result"
    }
   ],
   "source": [
    "s[-1:]"
   ]
  },
  {
   "cell_type": "code",
   "execution_count": 300,
   "id": "a837075f",
   "metadata": {},
   "outputs": [
    {
     "data": {
      "text/plain": [
       "'atangenamde'"
      ]
     },
     "execution_count": 300,
     "metadata": {},
     "output_type": "execute_result"
    }
   ],
   "source": [
    "s = \"patangenamdev\"\n",
    "s[-12:-1:1]"
   ]
  },
  {
   "cell_type": "code",
   "execution_count": 302,
   "id": "2423481c",
   "metadata": {},
   "outputs": [
    {
     "data": {
      "text/plain": [
       "''"
      ]
     },
     "execution_count": 302,
     "metadata": {},
     "output_type": "execute_result"
    }
   ],
   "source": [
    "s[-12:0:1]"
   ]
  },
  {
   "cell_type": "code",
   "execution_count": 304,
   "id": "2ba85d31",
   "metadata": {},
   "outputs": [],
   "source": [
    "s = \"i\\live\\in\\delhi\""
   ]
  },
  {
   "cell_type": "code",
   "execution_count": 306,
   "id": "4a61d378",
   "metadata": {},
   "outputs": [
    {
     "data": {
      "text/plain": [
       "['i', 'live', 'in', 'delhi']"
      ]
     },
     "execution_count": 306,
     "metadata": {},
     "output_type": "execute_result"
    }
   ],
   "source": [
    "s.split('\\\\')"
   ]
  },
  {
   "cell_type": "code",
   "execution_count": 312,
   "id": "91df19ce",
   "metadata": {},
   "outputs": [
    {
     "data": {
      "text/plain": [
       "True"
      ]
     },
     "execution_count": 312,
     "metadata": {},
     "output_type": "execute_result"
    }
   ],
   "source": [
    "s = \"nama\"\n",
    "s.isalpha()"
   ]
  },
  {
   "cell_type": "code",
   "execution_count": 316,
   "id": "9fa031ab",
   "metadata": {},
   "outputs": [],
   "source": [
    "s1 = \"nama3453\""
   ]
  },
  {
   "cell_type": "code",
   "execution_count": 318,
   "id": "9d05fa78",
   "metadata": {},
   "outputs": [
    {
     "data": {
      "text/plain": [
       "True"
      ]
     },
     "execution_count": 318,
     "metadata": {},
     "output_type": "execute_result"
    }
   ],
   "source": [
    "s1.isalnum()"
   ]
  }
 ],
 "metadata": {
  "kernelspec": {
   "display_name": "Python 3 (ipykernel)",
   "language": "python",
   "name": "python3"
  },
  "language_info": {
   "codemirror_mode": {
    "name": "ipython",
    "version": 3
   },
   "file_extension": ".py",
   "mimetype": "text/x-python",
   "name": "python",
   "nbconvert_exporter": "python",
   "pygments_lexer": "ipython3",
   "version": "3.11.5"
  }
 },
 "nbformat": 4,
 "nbformat_minor": 5
}
